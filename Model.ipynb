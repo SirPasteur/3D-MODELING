import numpy as np
import matplotlib.pyplot as plt
from mpl_toolkits.mplot3d import Axes3D

# Función de rotación en el eje Z
def Rz(theta):
    c, s = np.cos(theta), np.sin(theta)
    return np.array([
        [c, -s, 0, 0],
        [s,  c, 0, 0],
        [0,  0, 1, 0],
        [0,  0, 0, 1]
    ])

# Función de traslación en el eje X
def Tx(l):
    return np.array([
        [1, 0, 0, l],
        [0, 1, 0, 0],
        [0, 0, 1, 0],
        [0, 0, 0, 1]
    ])

# Parámetros del ejemplo
l1, l2, l3 = 1.0, 0.8, 0.5
theta1 = np.radians(45)
theta2 = np.radians(30)
theta3 = np.radians(-15)

# Transformaciones de cada eslabón
A1 = Rz(theta1) @ Tx(l1)
A2 = Rz(theta2) @ Tx(l2)
A3 = Rz(theta3) @ Tx(l3)

# Acumulación de transformaciones
T1 = A1
T2 = A1 @ A2
T3 = A1 @ A2 @ A3

# Posiciones de cada junta (en coordenadas homogéneas)
origin = np.array([0, 0, 0, 1])
P1 = T1 @ origin
P2 = T2 @ origin
P3 = T3 @ origin  # Efector final

# Crear listas de coordenadas para graficar
points = np.array([origin, P1, P2, P3])
x = points[:, 0]
y = points[:, 1]
z = points[:, 2]

# Visualización en 3D
fig = plt.figure(figsize=(8, 6))
ax = fig.add_subplot(111, projection='3d')
ax.plot(x, y, z, '-o', linewidth=3, markersize=8, color='royalblue')

# Etiquetas y estilo
ax.set_title("Simulación 3D de un Brazo Robótico con 3 Eslabones")
ax.set_xlabel("X")
ax.set_ylabel("Y")
ax.set_zlabel("Z")
ax.set_xlim(-2, 2)
ax.set_ylim(-2, 2)
ax.set_zlim(-1, 1)
ax.grid(True)
ax.view_init(elev=30, azim=45)
plt.tight_layout()
plt.show()
